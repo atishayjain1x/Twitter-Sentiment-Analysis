{
 "cells": [
  {
   "cell_type": "code",
   "execution_count": 0,
   "metadata": {
    "colab": {},
    "colab_type": "code",
    "id": "kDOOkQWVlMxl"
   },
   "outputs": [],
   "source": [
    "from nltk.corpus import wordnet\n",
    "from nltk.stem import WordNetLemmatizer\n",
    "lm=WordNetLemmatizer()\n",
    "from nltk import pos_tag"
   ]
  },
  {
   "cell_type": "code",
   "execution_count": 0,
   "metadata": {
    "colab": {},
    "colab_type": "code",
    "id": "ai0D0Xp4e7oi"
   },
   "outputs": [],
   "source": [
    "import pandas as pd\n",
    "\n",
    "p=pd.read_csv(\"/0000000000002747_training_twitter_x_y_train.csv\")\n",
    "c=p.iloc[:,1:2]\n",
    "ytrain=p['airline_sentiment'].to_list()\n",
    "doc=p['text'].to_list()\n",
    "c=pd.read_csv(\"/0000000000002747_test_twitter_x_test.csv\")\n",
    "xtest=c['text'].to_list()\n"
   ]
  },
  {
   "cell_type": "code",
   "execution_count": 0,
   "metadata": {
    "colab": {},
    "colab_type": "code",
    "id": "v1vGfaaNgS_K"
   },
   "outputs": [],
   "source": [
    "def getsimplepos(tag):\n",
    "    if tag.startswith(\"J\"):\n",
    "        return wordnet.ADJ\n",
    "    elif tag.startswith(\"V\"):\n",
    "        return wordnet.VERB\n",
    "    elif tag.startswith(\"N\"):\n",
    "        return wordnet.NOUN\n",
    "    elif tag.startswith(\"R\"):\n",
    "        return wordnet.ADV\n",
    "    else:\n",
    "        return wordnet.NOUN\n",
    "    nltk.download('stopwords')\n",
    "from nltk.corpus import stopwords\n",
    "stops=set(stopwords.words(\"english\"))\n",
    "import string\n",
    "p=list(string.punctuation)\n",
    "stops.update(p)\n",
    "def clean(words):\n",
    "    op=[]\n",
    "    for w in words:\n",
    "        if w not in stops:\n",
    "            pos=pos_tag([w])\n",
    "            cw=lm.lemmatize(w,pos=getsimplepos(pos[0][1]))\n",
    "            op.append(cw.lower())\n",
    "    return op        \n",
    "dcs=[clean(doc[s].split())for s in range(len(doc))]            \n",
    "tests=[clean(xtest[s].split()) for s in range(len(xtest))]"
   ]
  },
  {
   "cell_type": "code",
   "execution_count": 0,
   "metadata": {
    "colab": {},
    "colab_type": "code",
    "id": "UYYz_UL8hEFH"
   },
   "outputs": [],
   "source": [
    "for i in range(len(dcs)):\n",
    "  d=dcs[i].pop(0)\n",
    "for i in range(len(tests)):\n",
    "  tests[i].pop(0)\n"
   ]
  },
  {
   "cell_type": "code",
   "execution_count": 0,
   "metadata": {
    "colab": {},
    "colab_type": "code",
    "id": "TXWXXtokkNAd"
   },
   "outputs": [],
   "source": [
    "dxs=[\" \".join(i) for i in dcs]\n",
    "testx=[\" \".join(i) for i in tests]"
   ]
  },
  {
   "cell_type": "code",
   "execution_count": 0,
   "metadata": {
    "colab": {},
    "colab_type": "code",
    "id": "YC3s0ziPjEJ6"
   },
   "outputs": [],
   "source": [
    "from sklearn.feature_extraction.text import CountVectorizer\n",
    "countvec=CountVectorizer(max_features=3000,ngram_range=(1,2))\n",
    "xtrainf=countvec.fit_transform(dxs)\n",
    "xtrainf.todense()\n",
    "xtestf=countvec.transform(testx)\n"
   ]
  },
  {
   "cell_type": "code",
   "execution_count": 65,
   "metadata": {
    "colab": {
     "base_uri": "https://localhost:8080/",
     "height": 51
    },
    "colab_type": "code",
    "id": "LdqOnKsTnozZ",
    "outputId": "0748ec94-8f57-46b4-9264-168a7131285b"
   },
   "outputs": [
    {
     "data": {
      "text/plain": [
       "array(['negative', 'negative', 'negative', ..., 'neutral', 'positive',\n",
       "       'neutral'], dtype='<U8')"
      ]
     },
     "execution_count": 65,
     "metadata": {
      "tags": []
     },
     "output_type": "execute_result"
    }
   ],
   "source": [
    "from sklearn.naive_bayes import MultinomialNB\n",
    "rf=MultinomialNB()\n",
    "rf.fit(xtrainf,ytrain)\n",
    "yp=rf.predict(xtestf)\n"
   ]
  },
  {
   "cell_type": "code",
   "execution_count": 0,
   "metadata": {
    "colab": {},
    "colab_type": "code",
    "id": "1TD9kYLQoTx-"
   },
   "outputs": [],
   "source": [
    "import numpy as np\n",
    "np.savetxt(\"ypr.csv\",yp,fmt='%s')"
   ]
  }
 ],
 "metadata": {
  "colab": {
   "name": "Untitled1.ipynb",
   "provenance": [],
   "toc_visible": true
  },
  "kernelspec": {
   "display_name": "Python 3",
   "language": "python",
   "name": "python3"
  },
  "language_info": {
   "codemirror_mode": {
    "name": "ipython",
    "version": 3
   },
   "file_extension": ".py",
   "mimetype": "text/x-python",
   "name": "python",
   "nbconvert_exporter": "python",
   "pygments_lexer": "ipython3",
   "version": "3.8.3"
  }
 },
 "nbformat": 4,
 "nbformat_minor": 1
}
